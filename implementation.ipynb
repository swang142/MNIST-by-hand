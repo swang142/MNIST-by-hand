{
 "cells": [
  {
   "cell_type": "code",
   "execution_count": 4,
   "id": "b1b9c1a8-5b56-4b6b-b584-1ddc318f1bd7",
   "metadata": {},
   "outputs": [],
   "source": [
    "import pandas as pd\n",
    "import numpy as np\n"
   ]
  },
  {
   "cell_type": "code",
   "execution_count": 5,
   "id": "f79ee7d1-53ee-4ee6-b42d-76253edad8fe",
   "metadata": {},
   "outputs": [],
   "source": [
    "data = pd.read_csv('./mnist_train.csv')"
   ]
  },
  {
   "cell_type": "code",
   "execution_count": 6,
   "id": "e930d069-9ec8-4461-bbff-a35d42c49aef",
   "metadata": {},
   "outputs": [
    {
     "name": "stdout",
     "output_type": "stream",
     "text": [
      "       label  1x1  1x2  1x3  1x4  1x5  1x6  1x7  1x8  1x9  ...  28x19  28x20  \\\n",
      "0          5    0    0    0    0    0    0    0    0    0  ...      0      0   \n",
      "1          0    0    0    0    0    0    0    0    0    0  ...      0      0   \n",
      "2          4    0    0    0    0    0    0    0    0    0  ...      0      0   \n",
      "3          1    0    0    0    0    0    0    0    0    0  ...      0      0   \n",
      "4          9    0    0    0    0    0    0    0    0    0  ...      0      0   \n",
      "...      ...  ...  ...  ...  ...  ...  ...  ...  ...  ...  ...    ...    ...   \n",
      "59995      8    0    0    0    0    0    0    0    0    0  ...      0      0   \n",
      "59996      3    0    0    0    0    0    0    0    0    0  ...      0      0   \n",
      "59997      5    0    0    0    0    0    0    0    0    0  ...      0      0   \n",
      "59998      6    0    0    0    0    0    0    0    0    0  ...      0      0   \n",
      "59999      8    0    0    0    0    0    0    0    0    0  ...      0      0   \n",
      "\n",
      "       28x21  28x22  28x23  28x24  28x25  28x26  28x27  28x28  \n",
      "0          0      0      0      0      0      0      0      0  \n",
      "1          0      0      0      0      0      0      0      0  \n",
      "2          0      0      0      0      0      0      0      0  \n",
      "3          0      0      0      0      0      0      0      0  \n",
      "4          0      0      0      0      0      0      0      0  \n",
      "...      ...    ...    ...    ...    ...    ...    ...    ...  \n",
      "59995      0      0      0      0      0      0      0      0  \n",
      "59996      0      0      0      0      0      0      0      0  \n",
      "59997      0      0      0      0      0      0      0      0  \n",
      "59998      0      0      0      0      0      0      0      0  \n",
      "59999      0      0      0      0      0      0      0      0  \n",
      "\n",
      "[60000 rows x 785 columns]\n"
     ]
    }
   ],
   "source": [
    "print(data)"
   ]
  },
  {
   "cell_type": "code",
   "execution_count": 7,
   "id": "39cc9ec0-63e3-43f8-b8b2-c739b858fc3e",
   "metadata": {},
   "outputs": [],
   "source": [
    "train_data = np.array(data)[:50000].T\n",
    "test_data = np.array(data)[50000:].T\n",
    "\n",
    "cols = train_data.shape[1]\n",
    "X_train = train_data[1:cols]/255.0\n",
    "Y_train = train_data[0]\n",
    "\n",
    "X_test = test_data[1:cols]/255.0\n",
    "Y_test = test_data[0]\n",
    "\n"
   ]
  },
  {
   "cell_type": "code",
   "execution_count": 96,
   "id": "5a7c7903-767a-4c50-967e-64424cbcbcc7",
   "metadata": {},
   "outputs": [
    {
     "name": "stdout",
     "output_type": "stream",
     "text": [
      "Iteration  0\n",
      "Accuracy:  0.10058\n",
      "Iteration  50\n",
      "Accuracy:  0.35166\n",
      "Iteration  100\n",
      "Accuracy:  0.5463\n",
      "Iteration  150\n",
      "Accuracy:  0.72988\n",
      "Iteration  200\n",
      "Accuracy:  0.80624\n",
      "Iteration  250\n",
      "Accuracy:  0.84598\n",
      "Iteration  300\n",
      "Accuracy:  0.86412\n",
      "Iteration  350\n",
      "Accuracy:  0.87372\n",
      "Iteration  400\n",
      "Accuracy:  0.88058\n",
      "Iteration  450\n",
      "Accuracy:  0.8853\n",
      "Iteration  500\n",
      "Accuracy:  0.88856\n",
      "Iteration  550\n",
      "Accuracy:  0.89116\n",
      "Iteration  600\n",
      "Accuracy:  0.89462\n",
      "Iteration  650\n",
      "Accuracy:  0.89688\n",
      "Iteration  700\n",
      "Accuracy:  0.89968\n",
      "Iteration  750\n",
      "Accuracy:  0.90218\n",
      "Iteration  800\n",
      "Accuracy:  0.90432\n",
      "Iteration  850\n",
      "Accuracy:  0.90592\n",
      "Iteration  900\n",
      "Accuracy:  0.90776\n",
      "Iteration  950\n",
      "Accuracy:  0.90914\n",
      "Iteration  1000\n",
      "Accuracy:  0.91068\n"
     ]
    }
   ],
   "source": [
    "W1, b1, W2, b2 = gradient_descent(X_train, Y_train, 1000, 0.1)"
   ]
  },
  {
   "cell_type": "code",
   "execution_count": 97,
   "id": "23607e03-3fed-4e2e-9e6d-9073ebd2166a",
   "metadata": {},
   "outputs": [],
   "source": [
    "def make_predictions(X_pred):\n",
    "    _, _, _, A2 = forward_prop(W1, b1, W2, b2, X_pred)\n",
    "    print(A2)\n",
    "    predictions = get_predictions(A2)\n",
    "    return predictions"
   ]
  },
  {
   "cell_type": "code",
   "execution_count": 13,
   "id": "2e169582-3583-4dab-8e74-fa64ec716a1e",
   "metadata": {},
   "outputs": [
    {
     "data": {
      "image/png": "[encoded data removed]",
      "text/plain": [
       "<Figure size 640x480 with 1 Axes>"
      ]
     },
     "metadata": {},
     "output_type": "display_data"
    },
    {
     "ename": "NameError",
     "evalue": "name 'make_predictions' is not defined",
     "output_type": "error",
     "traceback": [
      "\u001b[1;31m---------------------------------------------------------------------------\u001b[0m",
      "\u001b[1;31mNameError\u001b[0m                                 Traceback (most recent call last)",
      "Cell \u001b[1;32mIn[13], line 28\u001b[0m\n\u001b[0;32m     24\u001b[0m plt\u001b[38;5;241m.\u001b[39mshow()\n\u001b[0;32m     26\u001b[0m image_np \u001b[38;5;241m=\u001b[39m image_np\u001b[38;5;241m.\u001b[39mreshape((\u001b[38;5;241m784\u001b[39m,\u001b[38;5;241m1\u001b[39m))\n\u001b[1;32m---> 28\u001b[0m \u001b[38;5;28mprint\u001b[39m(make_predictions(image_np))\n",
      "\u001b[1;31mNameError\u001b[0m: name 'make_predictions' is not defined"
     ]
    }
   ],
   "source": [
    "from PIL import Image, ImageOps\n",
    "import numpy as np\n",
    "import matplotlib.pyplot as plt\n",
    "\n",
    "# Open an image file\n",
    "image = Image.open('./canvas(5).png')\n",
    "# Convert the image to grayscale\n",
    "image = image.convert('L')\n",
    "\n",
    "image = ImageOps.invert(image)\n",
    "\n",
    "\n",
    "# Resize the image to 28x28 pixels\n",
    "image = image.resize((28, 28))\n",
    "\n",
    "# Convert image to numpy array\n",
    "image_np = np.array(image)\n",
    "\n",
    "# Normalize the pixel values to the range [0, 1]\n",
    "image_np = image_np / 255.0\n",
    "\n",
    "plt.gray()\n",
    "plt.imshow(image_np, interpolation='nearest')\n",
    "plt.show()\n",
    "\n",
    "image_np = image_np.reshape((784,1))\n",
    "\n",
    "print(make_predictions(image_np))"
   ]
  },
  {
   "cell_type": "code",
   "execution_count": 114,
   "id": "6b6545c6-b91c-4f94-b1e3-b4480675927d",
   "metadata": {},
   "outputs": [
    {
     "name": "stdout",
     "output_type": "stream",
     "text": [
      "[[2.49821297e-06]\n",
      " [2.00768377e-05]\n",
      " [4.52596696e-06]\n",
      " [9.12908549e-04]\n",
      " [6.03940765e-01]\n",
      " [2.15855845e-03]\n",
      " [2.35641260e-05]\n",
      " [8.40946736e-03]\n",
      " [1.40476450e-03]\n",
      " [3.83122871e-01]]\n",
      "Prediction:  [4]\n",
      "Label:  7\n"
     ]
    },
    {
     "data": {
      "image/png": "[encoded data removed]",
      "text/plain": [
       "<Figure size 640x480 with 1 Axes>"
      ]
     },
     "metadata": {},
     "output_type": "display_data"
    }
   ],
   "source": [
    "def test_prediction(index):\n",
    "    current_image = X_test[:, index:index+1]\n",
    "    prediction = make_predictions(X_test[:, index:index+1])\n",
    "    label = Y_test[index]\n",
    "    print(\"Prediction: \", prediction)\n",
    "    print(\"Label: \", label)\n",
    "    current_image = current_image.reshape((28, 28)) * 255\n",
    "    plt.gray()\n",
    "    plt.imshow(current_image, interpolation='nearest')\n",
    "    plt.show()\n",
    "\n",
    "test_prediction(233)"
   ]
  }
 ],
 "metadata": {
  "kernelspec": {
   "display_name": "Python 3 (ipykernel)",
   "language": "python",
   "name": "python3"
  },
  "language_info": {
   "codemirror_mode": {
    "name": "ipython",
    "version": 3
   },
   "file_extension": ".py",
   "mimetype": "text/x-python",
   "name": "python",
   "nbconvert_exporter": "python",
   "pygments_lexer": "ipython3",
   "version": "3.11.5"
  }
 },
 "nbformat": 4,
 "nbformat_minor": 5
}
